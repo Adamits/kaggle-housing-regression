{
 "cells": [
  {
   "cell_type": "code",
   "execution_count": 77,
   "metadata": {
    "collapsed": true
   },
   "outputs": [],
   "source": [
    "import numpy as np\n",
    "import pandas as pd\n",
    "import matplotlib.pyplot as plt\n",
    "\n",
    "from sklearn.metrics import mean_squared_error\n",
    "from sklearn.linear_model import LinearRegression\n",
    "from sklearn.feature_selection import VarianceThreshold\n",
    "from sklearn.cluster import KMeans\n",
    "\n",
    "lmodel = LinearRegression()\n",
    "\n",
    "# Read in CSV's to pandas\n",
    "train = pd.read_csv(\"./train.csv\")\n",
    "test = pd.read_csv(\"./test.csv\")\n",
    "train_labels = train[\"SalePrice\"]\n",
    "\n",
    "model_data = pd.concat([train,test],ignore_index=True)\n",
    "model_data = model_data.drop(\"SalePrice\", 1)"
   ]
  },
  {
   "cell_type": "code",
   "execution_count": 138,
   "metadata": {
    "collapsed": false
   },
   "outputs": [
    {
     "data": {
      "text/plain": [
       "OverallQual      0.790982\n",
       "GrLivArea        0.708624\n",
       "GarageCars       0.640409\n",
       "GarageArea       0.623431\n",
       "TotalBsmtSF      0.613581\n",
       "1stFlrSF         0.605852\n",
       "FullBath         0.560664\n",
       "TotRmsAbvGrd     0.533723\n",
       "YearBuilt        0.522897\n",
       "YearRemodAdd     0.507101\n",
       "GarageYrBlt      0.486362\n",
       "MasVnrArea       0.477493\n",
       "Fireplaces       0.466929\n",
       "BsmtFinSF1       0.386420\n",
       "LotFrontage      0.351799\n",
       "WoodDeckSF       0.324413\n",
       "2ndFlrSF         0.319334\n",
       "OpenPorchSF      0.315856\n",
       "HalfBath         0.284108\n",
       "LotArea          0.263843\n",
       "BsmtFullBath     0.227122\n",
       "BsmtUnfSF        0.214479\n",
       "BedroomAbvGr     0.168213\n",
       "KitchenAbvGr     0.135907\n",
       "EnclosedPorch    0.128578\n",
       "ScreenPorch      0.111447\n",
       "PoolArea         0.092404\n",
       "MSSubClass       0.084284\n",
       "OverallCond      0.077856\n",
       "MoSold           0.046432\n",
       "3SsnPorch        0.044584\n",
       "YrSold           0.028923\n",
       "LowQualFinSF     0.025606\n",
       "Id               0.021917\n",
       "MiscVal          0.021190\n",
       "BsmtHalfBath     0.016844\n",
       "BsmtFinSF2       0.011378\n",
       "Name: SalePrice, dtype: float64"
      ]
     },
     "execution_count": 138,
     "metadata": {},
     "output_type": "execute_result"
    }
   ],
   "source": [
    "# Let's take a peak at the numerical data with pandas\n",
    "corrs = train.corr()[\"SalePrice\"].abs()\n",
    "corrs.sort_values(ascending=False)[1:] # Sort from highest to lowest correlation, removing the top one (SalePrice)"
   ]
  },
  {
   "cell_type": "code",
   "execution_count": 165,
   "metadata": {
    "collapsed": false
   },
   "outputs": [],
   "source": [
    "########## KMeans to modify nan values ##########\n",
    "########## inputs:\n",
    "########## label of col to update, indices in that col that have nan value,\n",
    "########## data for clustering (including nan col), k number of clusters\n",
    "\n",
    "########## output:\n",
    "########## dictionary of {index : new value to replace nan}\n",
    "def KMeans_nan_replacement(nan_col_label, nan_indices, k_data, k):\n",
    "\n",
    "    # first iteration of KMeans\n",
    "    kmeans = KMeans(n_clusters=k, random_state=0).fit(k_data)\n",
    "\n",
    "    labels = kmeans.labels_\n",
    "    centroids = kmeans.cluster_centers_\n",
    "\n",
    "    prev_labels = []\n",
    "    converged = False\n",
    "\n",
    "    # Run KMeans, update previously nan values to converge on their centroids,\n",
    "    # Until the clusters stop changing\n",
    "    while(converged == False):\n",
    "        for nan_index in nan_indices:\n",
    "            # Set LotFrontage value that was previously nan to\n",
    "            # centroid for the k_data point at that same index\n",
    "            k_data.loc(nan_index)[0][\"LotFrontage\"] = centroids[labels[nan_index]][0]\n",
    "\n",
    "        # Rerun KMeans\n",
    "        kmeans = KMeans(n_clusters=k, random_state=0).fit(k_data)\n",
    "        # Store new labels\n",
    "        labels = kmeans.labels_\n",
    "        \n",
    "        # If labels did not change in this run, algorithm has converged\n",
    "        # (is this error prone if the window of distance to centroid is large?)\n",
    "        if np.all(labels == prev_labels):\n",
    "            converged = True\n",
    "\n",
    "        prev_labels = labels\n",
    "\n",
    "    # Return a dict of {index : new value}\n",
    "    return dict(zip(nan_indices, [k_data[nan_col_label][i] for i in [nan_indices]]))\n",
    "##############################"
   ]
  },
  {
   "cell_type": "code",
   "execution_count": 166,
   "metadata": {
    "collapsed": false
   },
   "outputs": [
    {
     "name": "stdout",
     "output_type": "stream",
     "text": [
      "['BsmtFinSF1', 'BsmtFinSF2', 'BsmtFullBath', 'BsmtHalfBath', 'BsmtUnfSF', 'GarageArea', 'GarageCars', 'GarageYrBlt', 'LotFrontage', 'MasVnrArea', 'TotalBsmtSF']\n"
     ]
    },
    {
     "data": {
      "text/plain": [
       "OverallQual      0.790982\n",
       "GrLivArea        0.708624\n",
       "GarageCars       0.640409\n",
       "GarageArea       0.623431\n",
       "TotalBsmtSF      0.613581\n",
       "1stFlrSF         0.605852\n",
       "FullBath         0.560664\n",
       "TotRmsAbvGrd     0.533723\n",
       "YearBuilt        0.522897\n",
       "YearRemodAdd     0.507101\n",
       "GarageYrBlt      0.486362\n",
       "MasVnrArea       0.477493\n",
       "Fireplaces       0.466929\n",
       "BsmtFinSF1       0.386420\n",
       "LotFrontage      0.351799\n",
       "WoodDeckSF       0.324413\n",
       "2ndFlrSF         0.319334\n",
       "OpenPorchSF      0.315856\n",
       "HalfBath         0.284108\n",
       "LotArea          0.263843\n",
       "BsmtFullBath     0.227122\n",
       "BsmtUnfSF        0.214479\n",
       "BedroomAbvGr     0.168213\n",
       "KitchenAbvGr     0.135907\n",
       "EnclosedPorch    0.128578\n",
       "ScreenPorch      0.111447\n",
       "PoolArea         0.092404\n",
       "MSSubClass       0.084284\n",
       "OverallCond      0.077856\n",
       "MoSold           0.046432\n",
       "3SsnPorch        0.044584\n",
       "YrSold           0.028923\n",
       "LowQualFinSF     0.025606\n",
       "Id               0.021917\n",
       "MiscVal          0.021190\n",
       "BsmtHalfBath     0.016844\n",
       "BsmtFinSF2       0.011378\n",
       "Name: SalePrice, dtype: float64"
      ]
     },
     "execution_count": 166,
     "metadata": {},
     "output_type": "execute_result"
    }
   ],
   "source": [
    "# Find cols with nan\n",
    "all_nan_cols = model_data.columns[pd.isnull(model_data).any()].tolist()\n",
    "\n",
    "# one-hot vector for categorical features\n",
    "model_data = pd.get_dummies(model_data)\n",
    "\n",
    "print all_nan_cols\n",
    "\n",
    "corrs = train.corr()[\"SalePrice\"].abs()\n",
    "corrs.sort_values(ascending=False)[1:] # Sort from highest to lowest correlation, removing the top one (SalePrice)"
   ]
  },
  {
   "cell_type": "code",
   "execution_count": 167,
   "metadata": {
    "collapsed": false
   },
   "outputs": [
    {
     "name": "stderr",
     "output_type": "stream",
     "text": [
      "/usr/local/lib/python2.7/site-packages/ipykernel/__main__.py:25: SettingWithCopyWarning: \n",
      "A value is trying to be set on a copy of a slice from a DataFrame\n",
      "\n",
      "See the caveats in the documentation: http://pandas.pydata.org/pandas-docs/stable/indexing.html#indexing-view-versus-copy\n",
      "/usr/local/lib/python2.7/site-packages/ipykernel/__main__.py:34: DeprecationWarning: elementwise == comparison failed; this will raise an error in the future.\n"
     ]
    }
   ],
   "source": [
    "# Store id's for LotFrontage nan\n",
    "nan_indices_lot_frontage = model_data['LotFrontage'].index[model_data['LotFrontage'].apply(np.isnan)]\n",
    "\n",
    "# Set all nan cols to col mean\n",
    "k_data = model_data.fillna(model_data.mean())\n",
    "\n",
    "# Run KMeans to fill nan for LotFrontage\n",
    "lot_frontage_indices_and_new_values = KMeans_nan_replacement(\"LotFrontage\", nan_indices_lot_frontage, k_data, 9)"
   ]
  },
  {
   "cell_type": "raw",
   "metadata": {},
   "source": [
    "# Iterate over all NAN cols, try to apply KMeans for value r"
   ]
  }
 ],
 "metadata": {
  "kernelspec": {
   "display_name": "Python 2",
   "language": "python",
   "name": "python2"
  },
  "language_info": {
   "codemirror_mode": {
    "name": "ipython",
    "version": 2
   },
   "file_extension": ".py",
   "mimetype": "text/x-python",
   "name": "python",
   "nbconvert_exporter": "python",
   "pygments_lexer": "ipython2",
   "version": "2.7.12"
  }
 },
 "nbformat": 4,
 "nbformat_minor": 1
}
